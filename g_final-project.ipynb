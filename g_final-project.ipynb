{
 "cells": [
  {
   "cell_type": "markdown",
   "id": "a1d32b0d",
   "metadata": {
    "papermill": {
     "duration": 0.002553,
     "end_time": "2023-04-20T18:05:04.548288",
     "exception": false,
     "start_time": "2023-04-20T18:05:04.545735",
     "status": "completed"
    },
    "tags": []
   },
   "source": [
    "So far, you have worked with datasets that we have provided for you.  In this tutorial, you'll learn how to use your own datasets.  Then, in the following exercise, you'll design and create your own data visualizations.\n",
    "\n",
    "You'll learn all about Kaggle Datasets, a tool that you can use to store your own datasets and quickly access tens of thousands of publicly available data sources.\n",
    "\n",
    "# Kaggle Datasets\n",
    "\n",
    "You can access Kaggle Datasets by visiting the link below:\n",
    "> https://www.kaggle.com/datasets\n",
    "\n",
    "The link will bring you to a webpage with a collection of datasets that you can use in your own projects.  \n",
    "\n",
    "<center>\n",
    "<img src=\"https://storage.googleapis.com/kaggle-media/learn/images/S2QaXfW.png\" width=80%><br/>\n",
    "</center>\n",
    "\n",
    "Note that the datasets that you see on the page will likely look different from what's shown in the screenshot above, since many new datasets are uploaded every day!  There are many different file types on Kaggle Datasets, including CSV files, but also more exotic file types such as JSON, SQLite, and BigQuery.  We'll be careful to select a dataset with at least one CSV file, since that is the file type we have been working with in this course.\n",
    "\n",
    "To search for a specific dataset, use the search bar at the top of the screen.  Say, for instance, you'd like to work with a dataset about comic book characters.  Begin by typing **\"comic\"** in the search window.  \n",
    "\n",
    "<center>\n",
    "<img src=\"https://storage.googleapis.com/kaggle-media/learn/images/DlVOsKS.png\" width=90%><br/>\n",
    "</center>\n",
    "\n",
    "Then, find the [**FiveThirtyEight Comic Characters Dataset**](https://www.kaggle.com/fivethirtyeight/fivethirtyeight-comic-characters-dataset).  Note that the dataset contains 3 files, including a CSV file that we can use.\n",
    "\n",
    "Then, click on the dataset to select it.  This will bring you to a webpage that describes the dataset.\n",
    "\n",
    "![tut6_sample_dataset](https://storage.googleapis.com/kaggle-media/learn/images/4W1Sa7H.png)\n",
    "\n",
    "Scroll down to see the list of files in the dataset under **Data Explorer**, on the left of the window.  The dataset contains three files: (1) **README.md**, (2) **dc-wikia-data.csv**, and (3) **marvel-wikia-data.csv**.  The first file is selected as default.  Click on one of the CSV files instead to see a quick preview of the file.  \n",
    "\n",
    "Take the time now to explore the other tabs on the page; for instance, check out the **Discussion** tab to see what others have to say about the dataset.\n",
    "\n",
    "# Use your own dataset\n",
    "\n",
    "In the following exercise, you'll work with any CSV dataset of your choosing.  As you learned above, Kaggle Datasets contains a large collection of datasets that you can use.  If you'd prefer to work with your own dataset, you'll need to first upload it to Kaggle Datasets.\n",
    "\n",
    "To do that, return to [kaggle.com/datasets](https://www.kaggle.com/datasets), and click on the \"New Dataset\" button in the top left corner.\n",
    "\n",
    "If you're not familiar with CSV file types, note that the Kaggle Datasets platform will automatically convert any tabular data that you have to a CSV file.  So, feel free to upload something like a Google spreadsheet or an Excel worksheet, and it will be transformed to a CSV file for you!\n",
    "\n",
    "# What's next?\n",
    "\n",
    "Visualize any dataset of your choosing in a **[coding exercise](https://www.kaggle.com/kernels/fork/2951523)**!"
   ]
  },
  {
   "cell_type": "markdown",
   "id": "8798de72",
   "metadata": {
    "papermill": {
     "duration": 0.001266,
     "end_time": "2023-04-20T18:05:04.551289",
     "exception": false,
     "start_time": "2023-04-20T18:05:04.550023",
     "status": "completed"
    },
    "tags": []
   },
   "source": [
    "---\n",
    "\n",
    "\n",
    "\n",
    "\n",
    "*Have questions or comments? Visit the [course discussion forum](https://www.kaggle.com/learn/data-visualization/discussion) to chat with other learners.*"
   ]
  }
 ],
 "metadata": {
  "kernelspec": {
   "display_name": "Python 3",
   "language": "python",
   "name": "python3"
  },
  "language_info": {
   "codemirror_mode": {
    "name": "ipython",
    "version": 3
   },
   "file_extension": ".py",
   "mimetype": "text/x-python",
   "name": "python",
   "nbconvert_exporter": "python",
   "pygments_lexer": "ipython3",
   "version": "3.7.12"
  },
  "papermill": {
   "default_parameters": {},
   "duration": 10.965178,
   "end_time": "2023-04-20T18:05:05.279055",
   "environment_variables": {},
   "exception": null,
   "input_path": "__notebook__.ipynb",
   "output_path": "__notebook__.ipynb",
   "parameters": {},
   "start_time": "2023-04-20T18:04:54.313877",
   "version": "2.4.0"
  }
 },
 "nbformat": 4,
 "nbformat_minor": 5
}
