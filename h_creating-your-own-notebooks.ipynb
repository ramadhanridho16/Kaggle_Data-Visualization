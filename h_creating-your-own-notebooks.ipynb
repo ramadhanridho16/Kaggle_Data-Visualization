{
 "cells": [
  {
   "cell_type": "markdown",
   "id": "8417a980",
   "metadata": {
    "papermill": {
     "duration": 0.003087,
     "end_time": "2023-04-20T18:05:06.837514",
     "exception": false,
     "start_time": "2023-04-20T18:05:06.834427",
     "status": "completed"
    },
    "tags": []
   },
   "source": [
    "Congratulations for making it to the end of the course!\n",
    "\n",
    "In this final tutorial, you'll learn an efficient workflow that you can use to continue creating your own stunning data visualizations on the Kaggle website."
   ]
  },
  {
   "cell_type": "markdown",
   "id": "f263cf9a",
   "metadata": {
    "papermill": {
     "duration": 0.001795,
     "end_time": "2023-04-20T18:05:06.841546",
     "exception": false,
     "start_time": "2023-04-20T18:05:06.839751",
     "status": "completed"
    },
    "tags": []
   },
   "source": [
    "## Workflow\n",
    "\n",
    "Begin by navigating to the site for Kaggle Notebooks:\n",
    "> https://www.kaggle.com/code\n",
    "\n",
    "Then, in the top left corner, click on **[+ New Notebook]**.\n",
    "\n",
    "![tut7_new_kernel](https://storage.googleapis.com/kaggle-media/learn/images/kw9cct2.png)\n",
    "\n",
    "This opens a notebook.  As a first step, check the language of the notebook by selecting **File > Language**.  If it's not Python, change the language to Python now.\n",
    "\n",
    "![tut7_default_lang](https://storage.googleapis.com/kaggle-media/learn/images/FcQhCjF.png)\n",
    "\n",
    "The notebook should hvae some default code.  **_Please erase this code, and replace it with the code in the cell below._**  (_This is the same code that you used in all of the exercises to set up your Python environment._)"
   ]
  },
  {
   "cell_type": "code",
   "execution_count": 1,
   "id": "8228b41b",
   "metadata": {
    "execution": {
     "iopub.execute_input": "2023-04-20T18:05:06.847280Z",
     "iopub.status.busy": "2023-04-20T18:05:06.846876Z",
     "iopub.status.idle": "2023-04-20T18:05:08.133749Z",
     "shell.execute_reply": "2023-04-20T18:05:08.132221Z"
    },
    "papermill": {
     "duration": 1.293602,
     "end_time": "2023-04-20T18:05:08.136949",
     "exception": false,
     "start_time": "2023-04-20T18:05:06.843347",
     "status": "completed"
    },
    "tags": []
   },
   "outputs": [
    {
     "name": "stdout",
     "output_type": "stream",
     "text": [
      "Setup Complete\n"
     ]
    }
   ],
   "source": [
    "import pandas as pd\n",
    "pd.plotting.register_matplotlib_converters()\n",
    "import matplotlib.pyplot as plt\n",
    "%matplotlib inline\n",
    "import seaborn as sns\n",
    "print(\"Setup Complete\")"
   ]
  },
  {
   "cell_type": "markdown",
   "id": "911795b1",
   "metadata": {
    "papermill": {
     "duration": 0.001827,
     "end_time": "2023-04-20T18:05:08.141186",
     "exception": false,
     "start_time": "2023-04-20T18:05:08.139359",
     "status": "completed"
    },
    "tags": []
   },
   "source": [
    "The next step is to attach a dataset, before writing code to visualize it.  (_You learned how to do that in the previous tutorial._) \n",
    "\n",
    "Then, once you have generated a figure, you need only save it as an image file that you can easily add to your presentations!"
   ]
  },
  {
   "cell_type": "markdown",
   "id": "7c9211d8",
   "metadata": {
    "papermill": {
     "duration": 0.001723,
     "end_time": "2023-04-20T18:05:08.144862",
     "exception": false,
     "start_time": "2023-04-20T18:05:08.143139",
     "status": "completed"
    },
    "tags": []
   },
   "source": [
    "---\n",
    "\n",
    "\n",
    "\n",
    "\n",
    "*Have questions or comments? Visit the [course discussion forum](https://www.kaggle.com/learn/data-visualization/discussion) to chat with other learners.*"
   ]
  }
 ],
 "metadata": {
  "kernelspec": {
   "display_name": "Python 3",
   "language": "python",
   "name": "python3"
  },
  "language_info": {
   "codemirror_mode": {
    "name": "ipython",
    "version": 3
   },
   "file_extension": ".py",
   "mimetype": "text/x-python",
   "name": "python",
   "nbconvert_exporter": "python",
   "pygments_lexer": "ipython3",
   "version": "3.7.12"
  },
  "papermill": {
   "default_parameters": {},
   "duration": 12.329034,
   "end_time": "2023-04-20T18:05:08.868409",
   "environment_variables": {},
   "exception": null,
   "input_path": "__notebook__.ipynb",
   "output_path": "__notebook__.ipynb",
   "parameters": {},
   "start_time": "2023-04-20T18:04:56.539375",
   "version": "2.4.0"
  }
 },
 "nbformat": 4,
 "nbformat_minor": 5
}
